{
 "cells": [
  {
   "cell_type": "markdown",
   "id": "7e8aac42-55c8-4d44-a38d-4e15b19b0fb8",
   "metadata": {},
   "source": [
    "#### In this notebook I excluded the EDA section, directly showed the feature engineering process and used pretrained model from from other notebook  (Forest Cover Type Prediction)"
   ]
  },
  {
   "cell_type": "code",
   "execution_count": null,
   "id": "988e833c-0373-4720-b217-119ac0208100",
   "metadata": {},
   "outputs": [],
   "source": []
  },
  {
   "cell_type": "code",
   "execution_count": 31,
   "id": "3ae0e0b9-6f0f-4034-b86f-8e7e81d9b311",
   "metadata": {
    "tags": []
   },
   "outputs": [],
   "source": [
    "import time\n",
    "import warnings\n",
    "warnings.filterwarnings('ignore')\n",
    "import pandas as pd\n",
    "import numpy as np\n",
    "import matplotlib.pyplot as plt\n",
    "%matplotlib inline\n",
    "import seaborn as sns\n",
    "from sklearn.model_selection import train_test_split, GridSearchCV, RandomizedSearchCV, cross_val_score\n",
    "from sklearn.preprocessing import StandardScaler\n",
    "from sklearn.metrics import  accuracy_score, f1_score, precision_score,confusion_matrix, recall_score, roc_auc_score\n",
    "from scipy.stats import uniform\n",
    "\n",
    "from sklearn.ensemble import ExtraTreesClassifier\n",
    "from lightgbm import LGBMClassifier\n",
    "import joblib"
   ]
  },
  {
   "cell_type": "code",
   "execution_count": 32,
   "id": "712add26-1ae7-43c3-948d-221d82960ccb",
   "metadata": {
    "tags": []
   },
   "outputs": [],
   "source": [
    "train=pd.read_csv(\"~/Desktop/train.csv\")\n",
    "test=pd.read_csv(\"~/Desktop/test.csv\")"
   ]
  },
  {
   "cell_type": "code",
   "execution_count": 33,
   "id": "328fc45c-41f4-4754-b697-71b3a480b33e",
   "metadata": {
    "tags": []
   },
   "outputs": [
    {
     "name": "stdout",
     "output_type": "stream",
     "text": [
      "(15120, 56)\n",
      "(565892, 55)\n"
     ]
    }
   ],
   "source": [
    "print(train.shape)\n",
    "print(test.shape)"
   ]
  },
  {
   "cell_type": "markdown",
   "id": "da7dfcab-026c-4c1e-9797-73238fc7e47e",
   "metadata": {},
   "source": [
    "### Checking for Anomalies & Outliers\n",
    "\n",
    "I am using the logic of extreme outliers to keep as much rows I can keep. This is a standard and widely used technique for outlier detection. So following data points will be dropped if they satisfy the following conditions:\n",
    "\n",
    "- x < Q1 - 3 * IQR\n",
    "- x > Q3 + 3 * IQR"
   ]
  },
  {
   "cell_type": "code",
   "execution_count": 34,
   "id": "89f5537f-6ece-4ae9-85c5-f1ff6e08e904",
   "metadata": {
    "tags": []
   },
   "outputs": [],
   "source": [
    "def outlier_function(df, col_name):\n",
    "\n",
    "    first_quartile = np.percentile(np.array(df[col_name].tolist()), 25)\n",
    "    third_quartile = np.percentile(np.array(df[col_name].tolist()), 75)\n",
    "    IQR = third_quartile - first_quartile\n",
    "                      \n",
    "    upper_limit = third_quartile+(3*IQR)\n",
    "    lower_limit = first_quartile-(3*IQR)\n",
    "    outlier_count = 0\n",
    "                      \n",
    "    for value in df[col_name].tolist():\n",
    "        if (value < lower_limit) | (value > upper_limit):\n",
    "            outlier_count +=1\n",
    "    return lower_limit, upper_limit, outlier_count"
   ]
  },
  {
   "cell_type": "code",
   "execution_count": 35,
   "id": "541c39ed-5bfc-4309-bde0-5c6d6b514793",
   "metadata": {
    "tags": []
   },
   "outputs": [
    {
     "data": {
      "text/plain": [
       "(15120, 56)"
      ]
     },
     "execution_count": 35,
     "metadata": {},
     "output_type": "execute_result"
    }
   ],
   "source": [
    "train.shape"
   ]
  },
  {
   "cell_type": "code",
   "execution_count": 36,
   "id": "55386481-fa00-4fac-a5b0-d15e58edefbf",
   "metadata": {
    "tags": []
   },
   "outputs": [
    {
     "data": {
      "text/plain": [
       "(14988, 56)"
      ]
     },
     "execution_count": 36,
     "metadata": {},
     "output_type": "execute_result"
    }
   ],
   "source": [
    "train1 = train[(train['Horizontal_Distance_To_Fire_Points'] > outlier_function(train, 'Horizontal_Distance_To_Fire_Points')[0]) &\n",
    "              (train['Horizontal_Distance_To_Fire_Points'] < outlier_function(train, 'Horizontal_Distance_To_Fire_Points')[1])]\n",
    "train1.shape"
   ]
  },
  {
   "cell_type": "markdown",
   "id": "b46a73dd-c0a2-49ba-8aed-e330b6aeca3a",
   "metadata": {},
   "source": [
    "### Feature Engineering"
   ]
  },
  {
   "cell_type": "code",
   "execution_count": 37,
   "id": "f7f3acfe-c281-456f-a823-2231fdbf2764",
   "metadata": {
    "tags": []
   },
   "outputs": [],
   "source": [
    "test1=test"
   ]
  },
  {
   "cell_type": "code",
   "execution_count": 38,
   "id": "68b45265-687d-4914-b36c-b3b5362709a5",
   "metadata": {
    "tags": []
   },
   "outputs": [],
   "source": [
    "train1[\"net_hyd_distance\"]=np.sqrt(train1[\"Vertical_Distance_To_Hydrology\"]**2 + train1[\"Horizontal_Distance_To_Hydrology\"]**2)\n",
    "test1[\"net_hyd_distance\"]=np.sqrt(test1[\"Vertical_Distance_To_Hydrology\"]**2 + test1[\"Horizontal_Distance_To_Hydrology\"]**2)"
   ]
  },
  {
   "cell_type": "markdown",
   "id": "bd26413e-fb95-42f2-b6e8-aeb94c6f8085",
   "metadata": {},
   "source": [
    "The resulting net_hyd_distance is a measure of the total distance to hydrology, considering both the horizontal and vertical distance."
   ]
  },
  {
   "cell_type": "code",
   "execution_count": 39,
   "id": "8e9dde4d-eb55-4d03-8061-92ce117330fa",
   "metadata": {
    "tags": []
   },
   "outputs": [],
   "source": [
    "train1[\"mean_distance_horizontal\"] = (train1[\"Horizontal_Distance_To_Hydrology\"] + train1[\"Horizontal_Distance_To_Roadways\"] + train1[\"Horizontal_Distance_To_Fire_Points\"])/3\n",
    "test1[\"mean_distance_horizontal\"] = (test1[\"Horizontal_Distance_To_Hydrology\"] + test1[\"Horizontal_Distance_To_Roadways\"] + test1[\"Horizontal_Distance_To_Fire_Points\"])/3"
   ]
  },
  {
   "cell_type": "markdown",
   "id": "923d7ccb-de68-42aa-ac0e-e2b344b751ac",
   "metadata": {},
   "source": [
    "By calculating the mean distance to these amenities, the new feature \"mean_distance_horizontal\" gives an overall measure of how close each data point is, on average, to these important environmental features."
   ]
  },
  {
   "cell_type": "code",
   "execution_count": 40,
   "id": "986465c6-cc27-4e33-aa14-9936beaf785b",
   "metadata": {
    "tags": []
   },
   "outputs": [],
   "source": [
    "#Transforming the data and making it closer to a normal distribution \n",
    "train1[\"sqrtHorizontal_Distance_To_Hydrology\"] = np.sqrt(train1[\"Horizontal_Distance_To_Hydrology\"])\n",
    "test1[\"sqrtHorizontal_Distance_To_Hydrology\"] = np.sqrt(test1[\"Horizontal_Distance_To_Hydrology\"])\n"
   ]
  },
  {
   "cell_type": "code",
   "execution_count": 41,
   "id": "66772a41-9086-46a8-ad15-ebc990220f13",
   "metadata": {
    "tags": []
   },
   "outputs": [],
   "source": [
    "# to get combined effect\n",
    "train1[\"Elevation_m_HR\"] = train1[\"Elevation\"] * train1[\"Horizontal_Distance_To_Roadways\"]\n",
    "test1[\"Elevation_m_HR\"] = test1[\"Elevation\"] * test1[\"Horizontal_Distance_To_Roadways\"]\n"
   ]
  },
  {
   "cell_type": "code",
   "execution_count": 42,
   "id": "4e6a4fe9-2587-4cf6-9538-dbf66f4fa27d",
   "metadata": {
    "tags": []
   },
   "outputs": [],
   "source": [
    "#functions for coverting one hot encoded columns to single column with num value\n",
    "\n",
    "def split_numbers_chars(row):\n",
    "    '''This function fetches the numerical characters at the end of a string\n",
    "    and returns alphabetical character and numerical chaarcters respectively'''\n",
    "    head = row.rstrip('0123456789')\n",
    "    tail = row[len(head):]\n",
    "    return head, tail\n",
    "\n",
    "def reverse_one_hot_encode(dataframe, start_loc, end_loc, numeric_column_name):\n",
    "    ''' this function takes the start and end location of the one-hot-encoded column set and numeric column name to be created as arguments\n",
    "    1) transforms one-hot-encoded columns into one column consisting of column names with string data type\n",
    "    2) splits string column into the alphabetical and numerical characters\n",
    "    3) fetches numerical character and creates numeric column in the given dataframe\n",
    "    '''\n",
    "    dataframe['String_Column'] = (dataframe.iloc[:, start_loc:end_loc] == 1).idxmax(1)\n",
    "    dataframe['Tuple_Column'] = dataframe['String_Column'].apply(split_numbers_chars)\n",
    "    dataframe[numeric_column_name] = dataframe['Tuple_Column'].apply(lambda x: x[1]).astype('int64')\n",
    "    dataframe.drop(columns=['String_Column','Tuple_Column'], inplace=True)"
   ]
  },
  {
   "cell_type": "code",
   "execution_count": 43,
   "id": "4b310455-9c04-462a-91a4-6fd335a7abb2",
   "metadata": {
    "tags": []
   },
   "outputs": [
    {
     "data": {
      "text/plain": [
       "Index(['Soil_Type1', 'Soil_Type2', 'Soil_Type3', 'Soil_Type4', 'Soil_Type5',\n",
       "       'Soil_Type6', 'Soil_Type7', 'Soil_Type8', 'Soil_Type9', 'Soil_Type10',\n",
       "       'Soil_Type11', 'Soil_Type12', 'Soil_Type13', 'Soil_Type14',\n",
       "       'Soil_Type15', 'Soil_Type16', 'Soil_Type17', 'Soil_Type18',\n",
       "       'Soil_Type19', 'Soil_Type20', 'Soil_Type21', 'Soil_Type22',\n",
       "       'Soil_Type23', 'Soil_Type24', 'Soil_Type25', 'Soil_Type26',\n",
       "       'Soil_Type27', 'Soil_Type28', 'Soil_Type29', 'Soil_Type30',\n",
       "       'Soil_Type31', 'Soil_Type32', 'Soil_Type33', 'Soil_Type34',\n",
       "       'Soil_Type35', 'Soil_Type36', 'Soil_Type37', 'Soil_Type38',\n",
       "       'Soil_Type39', 'Soil_Type40'],\n",
       "      dtype='object')"
      ]
     },
     "execution_count": 43,
     "metadata": {},
     "output_type": "execute_result"
    }
   ],
   "source": [
    "train1.iloc[:,15:55].columns"
   ]
  },
  {
   "cell_type": "code",
   "execution_count": 44,
   "id": "127b33b2-d9ce-4fba-b1fb-99b35030e5d6",
   "metadata": {
    "tags": []
   },
   "outputs": [],
   "source": [
    "reverse_one_hot_encode(train1, 15, 55, \"Soil_Type\")\n",
    "reverse_one_hot_encode(train1, 11, 15, \"Widerness_Area_Type\")"
   ]
  },
  {
   "cell_type": "code",
   "execution_count": 45,
   "id": "48e0361b-3a28-45e8-b89a-f2d4624c4e34",
   "metadata": {
    "tags": []
   },
   "outputs": [],
   "source": [
    "#doing the same for test set\n",
    "reverse_one_hot_encode(test1, 15, 55, \"Soil_Type\")\n",
    "reverse_one_hot_encode(test1, 11, 15, \"Widerness_Area_Type\")"
   ]
  },
  {
   "cell_type": "code",
   "execution_count": 46,
   "id": "3ec488d1-a90e-4961-bd34-d3e3ca51f963",
   "metadata": {
    "tags": []
   },
   "outputs": [],
   "source": [
    "train1.drop(columns=train1.columns[11:55], inplace=True)"
   ]
  },
  {
   "cell_type": "code",
   "execution_count": 47,
   "id": "c8d3c51a-ee19-4556-a9ad-d2b07c234bb3",
   "metadata": {
    "tags": []
   },
   "outputs": [],
   "source": [
    "test1.drop(columns=test1.columns[11:55], inplace=True)"
   ]
  },
  {
   "cell_type": "code",
   "execution_count": 48,
   "id": "5436dc85-f570-43de-8edf-af9ac8de13db",
   "metadata": {
    "tags": []
   },
   "outputs": [
    {
     "name": "stdout",
     "output_type": "stream",
     "text": [
      "(14988, 15)\n",
      "(565892, 14)\n"
     ]
    }
   ],
   "source": [
    "#Removing Horizontal distance to Hydrology because net hyd distance has very strong correlation with it.\n",
    "#Removing Hillshade 9am because it has strong correlation with hillshade 3pm\n",
    "#Removing ID, as it is not important for prediction \n",
    "\n",
    "train1 = train1.drop(['Horizontal_Distance_To_Hydrology', 'Hillshade_9am', 'Id'], axis=1)\n",
    "test1 = test1.drop(['Horizontal_Distance_To_Hydrology', 'Hillshade_9am', 'Id'], axis=1)\n",
    "\n",
    "print(train1.shape)\n",
    "print(test1.shape)"
   ]
  },
  {
   "cell_type": "markdown",
   "id": "108192e4-eb38-466f-8878-ebecc9a70d6e",
   "metadata": {},
   "source": [
    "### Train-Validation split"
   ]
  },
  {
   "cell_type": "code",
   "execution_count": 49,
   "id": "2512f7b5-57fe-4b82-a576-7b6c4e04724b",
   "metadata": {
    "tags": []
   },
   "outputs": [
    {
     "name": "stdout",
     "output_type": "stream",
     "text": [
      "(14988, 14)\n",
      "(14988,)\n"
     ]
    }
   ],
   "source": [
    "X = train1.drop([\"Cover_Type\"],axis = 1)\n",
    "y = np.array(train1.Cover_Type)\n",
    "print(X.shape)\n",
    "print(y.shape)"
   ]
  },
  {
   "cell_type": "code",
   "execution_count": 50,
   "id": "fa5f826e-9d74-43ef-a340-ec12bc0aaea7",
   "metadata": {
    "tags": []
   },
   "outputs": [
    {
     "name": "stdout",
     "output_type": "stream",
     "text": [
      "(11990, 14)\n",
      "(11990,)\n",
      "(2998, 14)\n",
      "(2998,)\n"
     ]
    }
   ],
   "source": [
    "X_train, X_val, y_train, y_val = train_test_split(X, y, test_size=0.2, random_state=42)\n",
    "print(X_train.shape)\n",
    "print(y_train.shape)\n",
    "print(X_val.shape)\n",
    "print(y_val.shape)"
   ]
  },
  {
   "cell_type": "code",
   "execution_count": 51,
   "id": "aa090bd1-20f0-4dbd-88a3-bb19344d97be",
   "metadata": {
    "tags": []
   },
   "outputs": [
    {
     "data": {
      "text/html": [
       "<div>\n",
       "<style scoped>\n",
       "    .dataframe tbody tr th:only-of-type {\n",
       "        vertical-align: middle;\n",
       "    }\n",
       "\n",
       "    .dataframe tbody tr th {\n",
       "        vertical-align: top;\n",
       "    }\n",
       "\n",
       "    .dataframe thead th {\n",
       "        text-align: right;\n",
       "    }\n",
       "</style>\n",
       "<table border=\"1\" class=\"dataframe\">\n",
       "  <thead>\n",
       "    <tr style=\"text-align: right;\">\n",
       "      <th></th>\n",
       "      <th>Elevation</th>\n",
       "      <th>Aspect</th>\n",
       "      <th>Slope</th>\n",
       "      <th>Vertical_Distance_To_Hydrology</th>\n",
       "      <th>Horizontal_Distance_To_Roadways</th>\n",
       "      <th>Hillshade_Noon</th>\n",
       "      <th>Hillshade_3pm</th>\n",
       "      <th>Horizontal_Distance_To_Fire_Points</th>\n",
       "      <th>net_hyd_distance</th>\n",
       "      <th>mean_distance_horizontal</th>\n",
       "      <th>sqrtHorizontal_Distance_To_Hydrology</th>\n",
       "      <th>Elevation_m_HR</th>\n",
       "      <th>Soil_Type</th>\n",
       "      <th>Widerness_Area_Type</th>\n",
       "    </tr>\n",
       "  </thead>\n",
       "  <tbody>\n",
       "    <tr>\n",
       "      <th>6099</th>\n",
       "      <td>2298</td>\n",
       "      <td>162</td>\n",
       "      <td>19</td>\n",
       "      <td>0</td>\n",
       "      <td>1110</td>\n",
       "      <td>241</td>\n",
       "      <td>128</td>\n",
       "      <td>1055</td>\n",
       "      <td>0.000000</td>\n",
       "      <td>721.666667</td>\n",
       "      <td>0.000000</td>\n",
       "      <td>2550780</td>\n",
       "      <td>3</td>\n",
       "      <td>4</td>\n",
       "    </tr>\n",
       "    <tr>\n",
       "      <th>10088</th>\n",
       "      <td>3101</td>\n",
       "      <td>342</td>\n",
       "      <td>8</td>\n",
       "      <td>4</td>\n",
       "      <td>309</td>\n",
       "      <td>229</td>\n",
       "      <td>163</td>\n",
       "      <td>2100</td>\n",
       "      <td>30.265492</td>\n",
       "      <td>813.000000</td>\n",
       "      <td>5.477226</td>\n",
       "      <td>958209</td>\n",
       "      <td>22</td>\n",
       "      <td>2</td>\n",
       "    </tr>\n",
       "    <tr>\n",
       "      <th>12849</th>\n",
       "      <td>2329</td>\n",
       "      <td>349</td>\n",
       "      <td>8</td>\n",
       "      <td>50</td>\n",
       "      <td>443</td>\n",
       "      <td>226</td>\n",
       "      <td>160</td>\n",
       "      <td>579</td>\n",
       "      <td>188.743212</td>\n",
       "      <td>401.333333</td>\n",
       "      <td>13.490738</td>\n",
       "      <td>1031747</td>\n",
       "      <td>10</td>\n",
       "      <td>4</td>\n",
       "    </tr>\n",
       "    <tr>\n",
       "      <th>6625</th>\n",
       "      <td>2544</td>\n",
       "      <td>307</td>\n",
       "      <td>7</td>\n",
       "      <td>18</td>\n",
       "      <td>577</td>\n",
       "      <td>236</td>\n",
       "      <td>175</td>\n",
       "      <td>1180</td>\n",
       "      <td>242.668498</td>\n",
       "      <td>666.333333</td>\n",
       "      <td>15.556349</td>\n",
       "      <td>1467888</td>\n",
       "      <td>6</td>\n",
       "      <td>4</td>\n",
       "    </tr>\n",
       "    <tr>\n",
       "      <th>8990</th>\n",
       "      <td>3041</td>\n",
       "      <td>123</td>\n",
       "      <td>10</td>\n",
       "      <td>0</td>\n",
       "      <td>3376</td>\n",
       "      <td>233</td>\n",
       "      <td>126</td>\n",
       "      <td>2495</td>\n",
       "      <td>0.000000</td>\n",
       "      <td>1957.000000</td>\n",
       "      <td>0.000000</td>\n",
       "      <td>10266416</td>\n",
       "      <td>23</td>\n",
       "      <td>3</td>\n",
       "    </tr>\n",
       "  </tbody>\n",
       "</table>\n",
       "</div>"
      ],
      "text/plain": [
       "       Elevation  Aspect  Slope  Vertical_Distance_To_Hydrology  \\\n",
       "6099        2298     162     19                               0   \n",
       "10088       3101     342      8                               4   \n",
       "12849       2329     349      8                              50   \n",
       "6625        2544     307      7                              18   \n",
       "8990        3041     123     10                               0   \n",
       "\n",
       "       Horizontal_Distance_To_Roadways  Hillshade_Noon  Hillshade_3pm  \\\n",
       "6099                              1110             241            128   \n",
       "10088                              309             229            163   \n",
       "12849                              443             226            160   \n",
       "6625                               577             236            175   \n",
       "8990                              3376             233            126   \n",
       "\n",
       "       Horizontal_Distance_To_Fire_Points  net_hyd_distance  \\\n",
       "6099                                 1055          0.000000   \n",
       "10088                                2100         30.265492   \n",
       "12849                                 579        188.743212   \n",
       "6625                                 1180        242.668498   \n",
       "8990                                 2495          0.000000   \n",
       "\n",
       "       mean_distance_horizontal  sqrtHorizontal_Distance_To_Hydrology  \\\n",
       "6099                 721.666667                              0.000000   \n",
       "10088                813.000000                              5.477226   \n",
       "12849                401.333333                             13.490738   \n",
       "6625                 666.333333                             15.556349   \n",
       "8990                1957.000000                              0.000000   \n",
       "\n",
       "       Elevation_m_HR  Soil_Type  Widerness_Area_Type  \n",
       "6099          2550780          3                    4  \n",
       "10088          958209         22                    2  \n",
       "12849         1031747         10                    4  \n",
       "6625          1467888          6                    4  \n",
       "8990         10266416         23                    3  "
      ]
     },
     "execution_count": 51,
     "metadata": {},
     "output_type": "execute_result"
    }
   ],
   "source": [
    "X_val.head()"
   ]
  },
  {
   "cell_type": "code",
   "execution_count": 52,
   "id": "8add8fb7-152b-4c1c-9b8c-5541a9870681",
   "metadata": {
    "tags": []
   },
   "outputs": [
    {
     "name": "stdout",
     "output_type": "stream",
     "text": [
      "<class 'pandas.core.frame.DataFrame'>\n",
      "Int64Index: 2998 entries, 6099 to 6658\n",
      "Data columns (total 14 columns):\n",
      " #   Column                                Non-Null Count  Dtype  \n",
      "---  ------                                --------------  -----  \n",
      " 0   Elevation                             2998 non-null   int64  \n",
      " 1   Aspect                                2998 non-null   int64  \n",
      " 2   Slope                                 2998 non-null   int64  \n",
      " 3   Vertical_Distance_To_Hydrology        2998 non-null   int64  \n",
      " 4   Horizontal_Distance_To_Roadways       2998 non-null   int64  \n",
      " 5   Hillshade_Noon                        2998 non-null   int64  \n",
      " 6   Hillshade_3pm                         2998 non-null   int64  \n",
      " 7   Horizontal_Distance_To_Fire_Points    2998 non-null   int64  \n",
      " 8   net_hyd_distance                      2998 non-null   float64\n",
      " 9   mean_distance_horizontal              2998 non-null   float64\n",
      " 10  sqrtHorizontal_Distance_To_Hydrology  2998 non-null   float64\n",
      " 11  Elevation_m_HR                        2998 non-null   int64  \n",
      " 12  Soil_Type                             2998 non-null   int64  \n",
      " 13  Widerness_Area_Type                   2998 non-null   int64  \n",
      "dtypes: float64(3), int64(11)\n",
      "memory usage: 351.3 KB\n"
     ]
    }
   ],
   "source": [
    "X_val.info()"
   ]
  },
  {
   "cell_type": "code",
   "execution_count": 53,
   "id": "93b571f5-735d-4693-a41d-195af64f34fe",
   "metadata": {
    "tags": []
   },
   "outputs": [],
   "source": [
    "# Selecting only the numerical columns for scaling (exclude Soil_Type and Wilderness_Area_Type)\n",
    "cols_for_scaler = ['Elevation', 'Aspect', 'Slope', 'Vertical_Distance_To_Hydrology',\n",
    "                  'Horizontal_Distance_To_Roadways', 'Hillshade_Noon', 'Hillshade_3pm',\n",
    "                  'Horizontal_Distance_To_Fire_Points', 'net_hyd_distance',\n",
    "                  'mean_distance_horizontal', 'sqrtHorizontal_Distance_To_Hydrology',\n",
    "                  'Elevation_m_HR']\n",
    "\n",
    "scaler = StandardScaler()\n",
    "\n",
    "# Fit the scaler on the training data and transform the training features\n",
    "X_train[cols_for_scaler] = scaler.fit_transform(X_train[cols_for_scaler])"
   ]
  },
  {
   "cell_type": "markdown",
   "id": "cf197b07-e946-407d-86e4-a54e1381f5a9",
   "metadata": {
    "tags": []
   },
   "source": [
    "### saving the standard scaler"
   ]
  },
  {
   "cell_type": "code",
   "execution_count": 23,
   "id": "5a4eaadf-2d1f-47af-b554-3481719c6264",
   "metadata": {},
   "outputs": [
    {
     "data": {
      "text/plain": [
       "['standard_scaler.pkl']"
      ]
     },
     "execution_count": 23,
     "metadata": {},
     "output_type": "execute_result"
    }
   ],
   "source": [
    "joblib.dump(scaler, \"standard_scaler.pkl\")"
   ]
  },
  {
   "cell_type": "code",
   "execution_count": 54,
   "id": "9b92fb04-9e79-406b-9857-b3f73c12c6c7",
   "metadata": {},
   "outputs": [],
   "source": [
    "sc=joblib.load(\"standard_scaler.pkl\")"
   ]
  },
  {
   "cell_type": "code",
   "execution_count": 55,
   "id": "0bc0749c-dda5-400e-bbe5-fd8c3920048c",
   "metadata": {
    "tags": []
   },
   "outputs": [],
   "source": [
    "# Transforming the validation features using the scaler fitted on the training data\n",
    "X_val[cols_for_scaler] = sc.transform(X_val[cols_for_scaler])"
   ]
  },
  {
   "cell_type": "code",
   "execution_count": 56,
   "id": "6d92cb0f-225d-46f4-ae0b-ec3b0345cad8",
   "metadata": {
    "tags": []
   },
   "outputs": [
    {
     "data": {
      "text/html": [
       "<div>\n",
       "<style scoped>\n",
       "    .dataframe tbody tr th:only-of-type {\n",
       "        vertical-align: middle;\n",
       "    }\n",
       "\n",
       "    .dataframe tbody tr th {\n",
       "        vertical-align: top;\n",
       "    }\n",
       "\n",
       "    .dataframe thead th {\n",
       "        text-align: right;\n",
       "    }\n",
       "</style>\n",
       "<table border=\"1\" class=\"dataframe\">\n",
       "  <thead>\n",
       "    <tr style=\"text-align: right;\">\n",
       "      <th></th>\n",
       "      <th>Elevation</th>\n",
       "      <th>Aspect</th>\n",
       "      <th>Slope</th>\n",
       "      <th>Vertical_Distance_To_Hydrology</th>\n",
       "      <th>Horizontal_Distance_To_Roadways</th>\n",
       "      <th>Hillshade_Noon</th>\n",
       "      <th>Hillshade_3pm</th>\n",
       "      <th>Horizontal_Distance_To_Fire_Points</th>\n",
       "      <th>net_hyd_distance</th>\n",
       "      <th>mean_distance_horizontal</th>\n",
       "      <th>sqrtHorizontal_Distance_To_Hydrology</th>\n",
       "      <th>Elevation_m_HR</th>\n",
       "      <th>Soil_Type</th>\n",
       "      <th>Widerness_Area_Type</th>\n",
       "    </tr>\n",
       "  </thead>\n",
       "  <tbody>\n",
       "    <tr>\n",
       "      <th>6099</th>\n",
       "      <td>-1.079695</td>\n",
       "      <td>0.055456</td>\n",
       "      <td>0.293635</td>\n",
       "      <td>-0.846355</td>\n",
       "      <td>-0.448118</td>\n",
       "      <td>0.972437</td>\n",
       "      <td>-0.149527</td>\n",
       "      <td>-0.409005</td>\n",
       "      <td>-1.107295</td>\n",
       "      <td>-0.596614</td>\n",
       "      <td>-1.797103</td>\n",
       "      <td>-0.561997</td>\n",
       "      <td>3</td>\n",
       "      <td>4</td>\n",
       "    </tr>\n",
       "    <tr>\n",
       "      <th>10088</th>\n",
       "      <td>0.846943</td>\n",
       "      <td>1.694471</td>\n",
       "      <td>-1.013800</td>\n",
       "      <td>-0.780849</td>\n",
       "      <td>-1.061633</td>\n",
       "      <td>0.444714</td>\n",
       "      <td>0.613471</td>\n",
       "      <td>0.627592</td>\n",
       "      <td>-0.965908</td>\n",
       "      <td>-0.463225</td>\n",
       "      <td>-1.051342</td>\n",
       "      <td>-0.931263</td>\n",
       "      <td>22</td>\n",
       "      <td>2</td>\n",
       "    </tr>\n",
       "    <tr>\n",
       "      <th>12849</th>\n",
       "      <td>-1.005316</td>\n",
       "      <td>1.758210</td>\n",
       "      <td>-1.013800</td>\n",
       "      <td>-0.027538</td>\n",
       "      <td>-0.958998</td>\n",
       "      <td>0.312783</td>\n",
       "      <td>0.548071</td>\n",
       "      <td>-0.881177</td>\n",
       "      <td>-0.225571</td>\n",
       "      <td>-1.064450</td>\n",
       "      <td>0.039752</td>\n",
       "      <td>-0.914212</td>\n",
       "      <td>10</td>\n",
       "      <td>4</td>\n",
       "    </tr>\n",
       "    <tr>\n",
       "      <th>6625</th>\n",
       "      <td>-0.489467</td>\n",
       "      <td>1.375773</td>\n",
       "      <td>-1.132658</td>\n",
       "      <td>-0.551581</td>\n",
       "      <td>-0.856362</td>\n",
       "      <td>0.752552</td>\n",
       "      <td>0.875070</td>\n",
       "      <td>-0.285010</td>\n",
       "      <td>0.026344</td>\n",
       "      <td>-0.677426</td>\n",
       "      <td>0.320999</td>\n",
       "      <td>-0.813085</td>\n",
       "      <td>6</td>\n",
       "      <td>4</td>\n",
       "    </tr>\n",
       "    <tr>\n",
       "      <th>8990</th>\n",
       "      <td>0.702985</td>\n",
       "      <td>-0.299664</td>\n",
       "      <td>-0.776085</td>\n",
       "      <td>-0.846355</td>\n",
       "      <td>1.287494</td>\n",
       "      <td>0.620622</td>\n",
       "      <td>-0.193127</td>\n",
       "      <td>1.019416</td>\n",
       "      <td>-1.107295</td>\n",
       "      <td>1.207548</td>\n",
       "      <td>-1.797103</td>\n",
       "      <td>1.227009</td>\n",
       "      <td>23</td>\n",
       "      <td>3</td>\n",
       "    </tr>\n",
       "  </tbody>\n",
       "</table>\n",
       "</div>"
      ],
      "text/plain": [
       "       Elevation    Aspect     Slope  Vertical_Distance_To_Hydrology  \\\n",
       "6099   -1.079695  0.055456  0.293635                       -0.846355   \n",
       "10088   0.846943  1.694471 -1.013800                       -0.780849   \n",
       "12849  -1.005316  1.758210 -1.013800                       -0.027538   \n",
       "6625   -0.489467  1.375773 -1.132658                       -0.551581   \n",
       "8990    0.702985 -0.299664 -0.776085                       -0.846355   \n",
       "\n",
       "       Horizontal_Distance_To_Roadways  Hillshade_Noon  Hillshade_3pm  \\\n",
       "6099                         -0.448118        0.972437      -0.149527   \n",
       "10088                        -1.061633        0.444714       0.613471   \n",
       "12849                        -0.958998        0.312783       0.548071   \n",
       "6625                         -0.856362        0.752552       0.875070   \n",
       "8990                          1.287494        0.620622      -0.193127   \n",
       "\n",
       "       Horizontal_Distance_To_Fire_Points  net_hyd_distance  \\\n",
       "6099                            -0.409005         -1.107295   \n",
       "10088                            0.627592         -0.965908   \n",
       "12849                           -0.881177         -0.225571   \n",
       "6625                            -0.285010          0.026344   \n",
       "8990                             1.019416         -1.107295   \n",
       "\n",
       "       mean_distance_horizontal  sqrtHorizontal_Distance_To_Hydrology  \\\n",
       "6099                  -0.596614                             -1.797103   \n",
       "10088                 -0.463225                             -1.051342   \n",
       "12849                 -1.064450                              0.039752   \n",
       "6625                  -0.677426                              0.320999   \n",
       "8990                   1.207548                             -1.797103   \n",
       "\n",
       "       Elevation_m_HR  Soil_Type  Widerness_Area_Type  \n",
       "6099        -0.561997          3                    4  \n",
       "10088       -0.931263         22                    2  \n",
       "12849       -0.914212         10                    4  \n",
       "6625        -0.813085          6                    4  \n",
       "8990         1.227009         23                    3  "
      ]
     },
     "execution_count": 56,
     "metadata": {},
     "output_type": "execute_result"
    }
   ],
   "source": [
    "X_val.head()"
   ]
  },
  {
   "cell_type": "markdown",
   "id": "a98da8ce-a59c-494c-8900-82a9b4d1ad6a",
   "metadata": {},
   "source": [
    "## load the trained model"
   ]
  },
  {
   "cell_type": "code",
   "execution_count": 57,
   "id": "f3e1766d-77f9-4507-b852-c6f632556f44",
   "metadata": {},
   "outputs": [],
   "source": [
    "top_classifier = joblib.load(\"top_classifier_model_xtree.pkl\")\n",
    "second_best_classifier = joblib.load(\"second_best_classifier_model_lgbm.pkl\")\n",
    "ensemble_classifier = joblib.load(\"ensemble_classifier_model_5.pkl\")"
   ]
  },
  {
   "cell_type": "code",
   "execution_count": 58,
   "id": "248a492f-a2ff-402f-b689-d36fba75e69f",
   "metadata": {},
   "outputs": [
    {
     "name": "stdout",
     "output_type": "stream",
     "text": [
      "Ensemble Classifier_Top5: 0.8942628418945964\n"
     ]
    }
   ],
   "source": [
    "ensemble_pred = ensemble_classifier.predict(X_val)\n",
    "\n",
    "# Calculate accuracy of the stacking classifier(top5)\n",
    "ensemble_accuracy = accuracy_score(y_val, ensemble_pred)\n",
    "\n",
    "print(\"Ensemble Classifier_Top5:\", ensemble_accuracy)"
   ]
  },
  {
   "cell_type": "markdown",
   "id": "5f6de9a6-1e07-4834-9703-650cb1903a52",
   "metadata": {},
   "source": [
    "model checked"
   ]
  },
  {
   "cell_type": "code",
   "execution_count": 59,
   "id": "39c5aca5-a50e-4259-9cbe-3520d4c3307e",
   "metadata": {
    "collapsed": true,
    "jupyter": {
     "outputs_hidden": true
    },
    "tags": []
   },
   "outputs": [
    {
     "data": {
      "text/plain": [
       "Index(['Elevation', 'Aspect', 'Slope', 'Vertical_Distance_To_Hydrology',\n",
       "       'Horizontal_Distance_To_Roadways', 'Hillshade_Noon', 'Hillshade_3pm',\n",
       "       'Horizontal_Distance_To_Fire_Points', 'net_hyd_distance',\n",
       "       'mean_distance_horizontal', 'sqrtHorizontal_Distance_To_Hydrology',\n",
       "       'Elevation_m_HR', 'Soil_Type', 'Widerness_Area_Type'],\n",
       "      dtype='object')"
      ]
     },
     "execution_count": 59,
     "metadata": {},
     "output_type": "execute_result"
    }
   ],
   "source": [
    "X_val.columns"
   ]
  },
  {
   "cell_type": "code",
   "execution_count": 60,
   "id": "26b37fb5-7d51-4db6-85f2-62678f63c647",
   "metadata": {
    "collapsed": true,
    "jupyter": {
     "outputs_hidden": true
    },
    "tags": []
   },
   "outputs": [
    {
     "name": "stdout",
     "output_type": "stream",
     "text": [
      "<class 'pandas.core.frame.DataFrame'>\n",
      "Int64Index: 2998 entries, 6099 to 6658\n",
      "Data columns (total 14 columns):\n",
      " #   Column                                Non-Null Count  Dtype  \n",
      "---  ------                                --------------  -----  \n",
      " 0   Elevation                             2998 non-null   float64\n",
      " 1   Aspect                                2998 non-null   float64\n",
      " 2   Slope                                 2998 non-null   float64\n",
      " 3   Vertical_Distance_To_Hydrology        2998 non-null   float64\n",
      " 4   Horizontal_Distance_To_Roadways       2998 non-null   float64\n",
      " 5   Hillshade_Noon                        2998 non-null   float64\n",
      " 6   Hillshade_3pm                         2998 non-null   float64\n",
      " 7   Horizontal_Distance_To_Fire_Points    2998 non-null   float64\n",
      " 8   net_hyd_distance                      2998 non-null   float64\n",
      " 9   mean_distance_horizontal              2998 non-null   float64\n",
      " 10  sqrtHorizontal_Distance_To_Hydrology  2998 non-null   float64\n",
      " 11  Elevation_m_HR                        2998 non-null   float64\n",
      " 12  Soil_Type                             2998 non-null   int64  \n",
      " 13  Widerness_Area_Type                   2998 non-null   int64  \n",
      "dtypes: float64(12), int64(2)\n",
      "memory usage: 351.3 KB\n"
     ]
    }
   ],
   "source": [
    "X_val.info()"
   ]
  },
  {
   "cell_type": "code",
   "execution_count": 64,
   "id": "dbc06fbe-5f5b-40be-a1ea-4fd1587e0cd6",
   "metadata": {
    "tags": []
   },
   "outputs": [
    {
     "data": {
      "text/plain": [
       "array([4, 1, 3, ..., 5, 5, 5])"
      ]
     },
     "execution_count": 64,
     "metadata": {},
     "output_type": "execute_result"
    }
   ],
   "source": [
    "y_val"
   ]
  },
  {
   "cell_type": "code",
   "execution_count": null,
   "id": "e447e91a-f5fe-4430-bbae-8a9f9d8a8c9a",
   "metadata": {},
   "outputs": [],
   "source": []
  }
 ],
 "metadata": {
  "kernelspec": {
   "display_name": "Python 3 (ipykernel)",
   "language": "python",
   "name": "python3"
  },
  "language_info": {
   "codemirror_mode": {
    "name": "ipython",
    "version": 3
   },
   "file_extension": ".py",
   "mimetype": "text/x-python",
   "name": "python",
   "nbconvert_exporter": "python",
   "pygments_lexer": "ipython3",
   "version": "3.11.4"
  }
 },
 "nbformat": 4,
 "nbformat_minor": 5
}
